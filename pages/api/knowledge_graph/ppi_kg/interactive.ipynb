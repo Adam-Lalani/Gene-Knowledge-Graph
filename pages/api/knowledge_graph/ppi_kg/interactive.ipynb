{
 "cells": [
  {
   "cell_type": "code",
   "execution_count": 270,
   "metadata": {},
   "outputs": [],
   "source": [
    "style = [{\n",
    "                            \"selector\": 'node',\n",
    "                            \"style\": {\n",
    "                            'background-color': 'data(color)',\n",
    "                            'border-color': 'data(borderColor)',\n",
    "                            'border-width': 'data(borderWidth)',\n",
    "                            'label': 'data(label)',\n",
    "                            \"text-valign\": \"center\",\n",
    "                            \"text-halign\": \"center\",\n",
    "                            'width': \"50\",\n",
    "                            'height': \"50\",\n",
    "                            }\n",
    "                        },\n",
    "                        {\n",
    "                            \"selector\": 'edge',\n",
    "                            \"style\": {\n",
    "                            'curve-style': 'straight',\n",
    "                            'line-color': 'data(lineColor)',\n",
    "                            'width': '3',\n",
    "                            'label': 'data(source_database)',\n",
    "                            \"text.label\"\n",
    "                            \"text-rotation\": \"autorotate\",\n",
    "                            \"text-margin-x\": \"0px\",\n",
    "                            \"text-margin-y\": \"0px\",\n",
    "                            'font-size': '12px',\n",
    "                            'target-arrow-shape': \"data(directed)\",\n",
    "                            'target-endpoint': 'outside-to-node',\n",
    "                            'source-endpoint': 'outside-to-node',\n",
    "                            'target-arrow-color': 'data(lineColor)',\n",
    "                            }\n",
    "                        },\n",
    "                        {\n",
    "                            \"selector\": 'node.highlight',\n",
    "                            \"style\": {\n",
    "                                'border-color': 'gray',\n",
    "                                'border-width': '2px',\n",
    "                                'font-weight': 'bold',\n",
    "                                'font-size': '18px',\n",
    "                                'width': \"90\",\n",
    "                                'height': \"90\",\n",
    "                            }\n",
    "                        },\n",
    "                        {\n",
    "                            \"selector\": 'node.focused',\n",
    "                            \"style\": {\n",
    "                                'border-color': 'gray',\n",
    "                                'border-width': '2px',\n",
    "                                'font-weight': 'bold',\n",
    "                                'font-size': '18px',\n",
    "                                'width': \"90\",\n",
    "                                'height': \"90\",\n",
    "                            }\n",
    "                        },\n",
    "                        {\n",
    "                            \"selector\": 'edge.focusedColored',\n",
    "                            \"style\": {\n",
    "                                'line-color': '#F8333C',\n",
    "                                'width': '6'\n",
    "                            }\n",
    "                        },\n",
    "                        {\n",
    "                            \"selector\": 'node.semitransp',\n",
    "                            \"style\":{ 'opacity': '0.5' }\n",
    "                        },\n",
    "                        {\n",
    "                            \"selector\": 'node.focusedSemitransp',\n",
    "                            \"style\":{ 'opacity': '0.5' }\n",
    "                        },\n",
    "                        {\n",
    "                            \"selector\": 'edge.colored',\n",
    "                            \"style\": {\n",
    "                                'line-color': '#F8333C',\n",
    "                                'target-arrow-color': '#F8333C',\n",
    "                                'width': '6'\n",
    "                            }\n",
    "                        },\n",
    "                        {\n",
    "                            \"selector\": 'edge.semitransp',\n",
    "                            \"style\":{ 'opacity': '0.5' }\n",
    "                        },\n",
    "                        {\n",
    "                            \"selector\": 'edge.focusedSemitransp',\n",
    "                            \"style\":{ 'opacity': '0.5' }\n",
    "                        }]"
   ]
  },
  {
   "cell_type": "code",
   "execution_count": 276,
   "metadata": {},
   "outputs": [
    {
     "name": "stdout",
     "output_type": "stream",
     "text": [
      "[{'data': {'id': '51614', 'kind': 'Protein', 'label': 'ERGIC3', 'color': '#aff0ca', 'properties': {'id': '51614', 'kind': 'Protein', 'label': 'ERGIC3'}}}, {'data': {'source': '51614', 'target': '4712', 'kind': 'Relation', 'relation': 'PPI', 'label': 'PPI', 'source_database': 'bioGRID', 'properties': {'source': '51614', 'target': '4712', 'kind': 'Relation', 'relation': 'PPI', 'label': 'PPI', 'source_database': 'bioGRID', 'Experimental_System': 'Two-hybrid', 'Evidence_Type': '', 'Throughput': 'High Throughput', 'pmids': '32296183', 'Interaction_Confidence_bioplex': '', 'Combined_Score_stringDB': ''}, 'lineColor': '#b3b3b3', 'directed': 'none'}}, {'data': {'id': '4712', 'kind': 'Protein', 'label': 'NDUFB6', 'color': '#aff0ca', 'properties': {'id': '51614', 'kind': 'Protein', 'label': 'ERGIC3'}}}, {'data': {'id': '51614', 'kind': 'Protein', 'label': 'ERGIC3', 'color': '#aff0ca', 'properties': {'id': '51614', 'kind': 'Protein', 'label': 'ERGIC3'}}}, {'data': {'source': '51614', 'target': '4712', 'kind': 'Relation', 'relation': 'PPI', 'label': 'PPI', 'source_database': 'bioGRID', 'properties': {'source': '51614', 'target': '4712', 'kind': 'Relation', 'relation': 'PPI', 'label': 'PPI', 'source_database': 'bioGRID', 'Experimental_System': 'Two-hybrid', 'Evidence_Type': '', 'Throughput': 'High Throughput', 'pmids': '32296183', 'Interaction_Confidence_bioplex': '', 'Combined_Score_stringDB': ''}, 'lineColor': '#b3b3b3', 'directed': 'none'}}, {'data': {'id': '4712', 'kind': 'Protein', 'label': 'NDUFB6', 'color': '#aff0ca', 'properties': {'id': '51614', 'kind': 'Protein', 'label': 'ERGIC3'}}}]\n"
     ]
    },
    {
     "data": {
      "application/vnd.jupyter.widget-view+json": {
       "model_id": "1742cb2ecd2c4feab0242c65a375b088",
       "version_major": 2,
       "version_minor": 0
      },
      "text/plain": [
       "CytoscapeWidget(cytoscape_layout={'name': 'cola'}, cytoscape_style=[{'selector': 'node', 'style': {'background…"
      ]
     },
     "metadata": {},
     "output_type": "display_data"
    }
   ],
   "source": [
    "import ipycytoscape\n",
    "import requests \n",
    "\n",
    "# Inputs: \n",
    "# 'geneset' : ['gene name'] - needs a list of strings\n",
    "# 'databases' : ['database name'] - needs a list of strings,  \n",
    "# options: iid, bioGRID, STRING, bioPlex 3.0, deafualt - all of them \n",
    "# 'subgrah_size' : int, - size of the subgraph you want to produce\n",
    "# 'path_length' : int, number of edges between target proteins \n",
    "#'NSUN3', 'POLRMT', 'NLRX1', 'SFXN5', 'ZC3H12C', 'SLC25A39', 'ARSG', 'DEFB29', 'NDUFB6', 'ZFAND1'\n",
    "payload = {'geneset' : ['NDUFB6','ERGIC3'] ,'path_length':1, 'subgraph_size': 30, 'ht': True, \"ci\": 0, 'pred':True, 'ortho':True, 'biogrid':True, 'bioplex':True, 'iid': True, 'string': True } \n",
    "\n",
    "res = requests.post(\"  https://g2nkg.dev.maayanlab.cloud/api/knowledge_graph/ppi_kg\", json = payload)\n",
    "results = res.json()\n",
    "print(results)\n",
    "nodes = {}\n",
    "edges = []\n",
    "for i in results:\n",
    "    if i[\"data\"][\"kind\"] == 'Relation':\n",
    "        edges.append(i)\n",
    "    else:\n",
    "        nodes[i[\"data\"][\"id\"]] = i[\"data\"]\n",
    "cytoscapeobj = ipycytoscape.CytoscapeWidget()\n",
    "cytoscapeobj.graph.add_graph_from_json({\n",
    "    \"nodes\": nodes.values(),\n",
    "    \"edges\": edges\n",
    "}) \n",
    "cytoscapeobj.set_style(style)\n",
    "display(cytoscapeobj)"
   ]
  }
 ],
 "metadata": {
  "kernelspec": {
   "display_name": "MS23",
   "language": "python",
   "name": "python3"
  },
  "language_info": {
   "codemirror_mode": {
    "name": "ipython",
    "version": 3
   },
   "file_extension": ".py",
   "mimetype": "text/x-python",
   "name": "python",
   "nbconvert_exporter": "python",
   "pygments_lexer": "ipython3",
   "version": "3.11.3"
  },
  "orig_nbformat": 4
 },
 "nbformat": 4,
 "nbformat_minor": 2
}
